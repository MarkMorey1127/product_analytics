{
 "cells": [
  {
   "cell_type": "code",
   "execution_count": 100,
   "metadata": {},
   "outputs": [],
   "source": [
    "import pandas as pd\n",
    "import statsmodels.api as sm \n",
    "from matplotlib import pyplot as plt\n",
    "import numpy as np\n",
    "from patsy import dmatrices"
   ]
  },
  {
   "cell_type": "markdown",
   "metadata": {},
   "source": [
    "Read in the Product Level Data"
   ]
  },
  {
   "cell_type": "code",
   "execution_count": 101,
   "metadata": {},
   "outputs": [],
   "source": [
    "transactions = pd.read_excel(\"C:/Users/morey/OneDrive/Python_Scripts/SnackChain.xlsx\", sheet_name = \"transactions\")\n",
    "\n",
    "products = pd.read_excel(\"C:/Users/morey/OneDrive/Python_Scripts/SnackChain.xlsx\", sheet_name = \"products\")"
   ]
  },
  {
   "cell_type": "markdown",
   "metadata": {},
   "source": [
    "Exploratory Data Analysis "
   ]
  },
  {
   "cell_type": "code",
   "execution_count": 102,
   "metadata": {},
   "outputs": [
    {
     "data": {
      "text/html": [
       "<div>\n",
       "<style scoped>\n",
       "    .dataframe tbody tr th:only-of-type {\n",
       "        vertical-align: middle;\n",
       "    }\n",
       "\n",
       "    .dataframe tbody tr th {\n",
       "        vertical-align: top;\n",
       "    }\n",
       "\n",
       "    .dataframe thead th {\n",
       "        text-align: right;\n",
       "    }\n",
       "</style>\n",
       "<table border=\"1\" class=\"dataframe\">\n",
       "  <thead>\n",
       "    <tr style=\"text-align: right;\">\n",
       "      <th></th>\n",
       "      <th>WEEK_END_DATE</th>\n",
       "      <th>STORE_NUM</th>\n",
       "      <th>UPC</th>\n",
       "      <th>UNITS</th>\n",
       "      <th>VISITS</th>\n",
       "      <th>HHS</th>\n",
       "      <th>SPEND</th>\n",
       "      <th>PRICE</th>\n",
       "      <th>BASE_PRICE</th>\n",
       "      <th>FEATURE</th>\n",
       "      <th>DISPLAY</th>\n",
       "      <th>TPR_ONLY</th>\n",
       "    </tr>\n",
       "  </thead>\n",
       "  <tbody>\n",
       "    <tr>\n",
       "      <th>0</th>\n",
       "      <td>2009-01-14</td>\n",
       "      <td>367</td>\n",
       "      <td>1111009477</td>\n",
       "      <td>13</td>\n",
       "      <td>13</td>\n",
       "      <td>13</td>\n",
       "      <td>18.07</td>\n",
       "      <td>1.39</td>\n",
       "      <td>1.57</td>\n",
       "      <td>0</td>\n",
       "      <td>0</td>\n",
       "      <td>1</td>\n",
       "    </tr>\n",
       "    <tr>\n",
       "      <th>1</th>\n",
       "      <td>2009-01-14</td>\n",
       "      <td>367</td>\n",
       "      <td>1111009497</td>\n",
       "      <td>20</td>\n",
       "      <td>18</td>\n",
       "      <td>18</td>\n",
       "      <td>27.80</td>\n",
       "      <td>1.39</td>\n",
       "      <td>1.39</td>\n",
       "      <td>0</td>\n",
       "      <td>0</td>\n",
       "      <td>0</td>\n",
       "    </tr>\n",
       "    <tr>\n",
       "      <th>2</th>\n",
       "      <td>2009-01-14</td>\n",
       "      <td>367</td>\n",
       "      <td>1111009507</td>\n",
       "      <td>14</td>\n",
       "      <td>14</td>\n",
       "      <td>14</td>\n",
       "      <td>19.32</td>\n",
       "      <td>1.38</td>\n",
       "      <td>1.38</td>\n",
       "      <td>0</td>\n",
       "      <td>0</td>\n",
       "      <td>0</td>\n",
       "    </tr>\n",
       "    <tr>\n",
       "      <th>3</th>\n",
       "      <td>2009-01-14</td>\n",
       "      <td>367</td>\n",
       "      <td>1111035398</td>\n",
       "      <td>4</td>\n",
       "      <td>3</td>\n",
       "      <td>3</td>\n",
       "      <td>14.00</td>\n",
       "      <td>3.50</td>\n",
       "      <td>4.49</td>\n",
       "      <td>0</td>\n",
       "      <td>0</td>\n",
       "      <td>1</td>\n",
       "    </tr>\n",
       "    <tr>\n",
       "      <th>4</th>\n",
       "      <td>2009-01-14</td>\n",
       "      <td>367</td>\n",
       "      <td>1111038078</td>\n",
       "      <td>3</td>\n",
       "      <td>3</td>\n",
       "      <td>3</td>\n",
       "      <td>7.50</td>\n",
       "      <td>2.50</td>\n",
       "      <td>2.50</td>\n",
       "      <td>0</td>\n",
       "      <td>0</td>\n",
       "      <td>0</td>\n",
       "    </tr>\n",
       "  </tbody>\n",
       "</table>\n",
       "</div>"
      ],
      "text/plain": [
       "  WEEK_END_DATE  STORE_NUM         UPC  UNITS  VISITS  HHS  SPEND  PRICE  \\\n",
       "0    2009-01-14        367  1111009477     13      13   13  18.07   1.39   \n",
       "1    2009-01-14        367  1111009497     20      18   18  27.80   1.39   \n",
       "2    2009-01-14        367  1111009507     14      14   14  19.32   1.38   \n",
       "3    2009-01-14        367  1111035398      4       3    3  14.00   3.50   \n",
       "4    2009-01-14        367  1111038078      3       3    3   7.50   2.50   \n",
       "\n",
       "   BASE_PRICE  FEATURE  DISPLAY  TPR_ONLY  \n",
       "0        1.57        0        0         1  \n",
       "1        1.39        0        0         0  \n",
       "2        1.38        0        0         0  \n",
       "3        4.49        0        0         1  \n",
       "4        2.50        0        0         0  "
      ]
     },
     "execution_count": 102,
     "metadata": {},
     "output_type": "execute_result"
    }
   ],
   "source": [
    "transactions.head()"
   ]
  },
  {
   "cell_type": "code",
   "execution_count": 103,
   "metadata": {},
   "outputs": [
    {
     "data": {
      "text/html": [
       "<div>\n",
       "<style scoped>\n",
       "    .dataframe tbody tr th:only-of-type {\n",
       "        vertical-align: middle;\n",
       "    }\n",
       "\n",
       "    .dataframe tbody tr th {\n",
       "        vertical-align: top;\n",
       "    }\n",
       "\n",
       "    .dataframe thead th {\n",
       "        text-align: right;\n",
       "    }\n",
       "</style>\n",
       "<table border=\"1\" class=\"dataframe\">\n",
       "  <thead>\n",
       "    <tr style=\"text-align: right;\">\n",
       "      <th></th>\n",
       "      <th>UPC</th>\n",
       "      <th>DESCRIPTION</th>\n",
       "      <th>MANUFACTURER</th>\n",
       "      <th>CATEGORY</th>\n",
       "      <th>SUB_CATEGORY</th>\n",
       "      <th>PRODUCT_SIZE</th>\n",
       "    </tr>\n",
       "  </thead>\n",
       "  <tbody>\n",
       "    <tr>\n",
       "      <th>0</th>\n",
       "      <td>1111009477</td>\n",
       "      <td>PL MINI TWIST PRETZELS</td>\n",
       "      <td>PRIVATE LABEL</td>\n",
       "      <td>BAG SNACKS</td>\n",
       "      <td>PRETZELS</td>\n",
       "      <td>15 OZ</td>\n",
       "    </tr>\n",
       "    <tr>\n",
       "      <th>1</th>\n",
       "      <td>1111009497</td>\n",
       "      <td>PL PRETZEL STICKS</td>\n",
       "      <td>PRIVATE LABEL</td>\n",
       "      <td>BAG SNACKS</td>\n",
       "      <td>PRETZELS</td>\n",
       "      <td>15 OZ</td>\n",
       "    </tr>\n",
       "    <tr>\n",
       "      <th>2</th>\n",
       "      <td>1111009507</td>\n",
       "      <td>PL TWIST PRETZELS</td>\n",
       "      <td>PRIVATE LABEL</td>\n",
       "      <td>BAG SNACKS</td>\n",
       "      <td>PRETZELS</td>\n",
       "      <td>15 OZ</td>\n",
       "    </tr>\n",
       "    <tr>\n",
       "      <th>3</th>\n",
       "      <td>1111035398</td>\n",
       "      <td>PL BL MINT ANTSPTC RINSE</td>\n",
       "      <td>PRIVATE LABEL</td>\n",
       "      <td>ORAL HYGIENE PRODUCTS</td>\n",
       "      <td>MOUTHWASHES (ANTISEPTIC)</td>\n",
       "      <td>1.5 LT</td>\n",
       "    </tr>\n",
       "    <tr>\n",
       "      <th>4</th>\n",
       "      <td>1111038078</td>\n",
       "      <td>PL BL MINT ANTSPTC RINSE</td>\n",
       "      <td>PRIVATE LABEL</td>\n",
       "      <td>ORAL HYGIENE PRODUCTS</td>\n",
       "      <td>MOUTHWASHES (ANTISEPTIC)</td>\n",
       "      <td>500 ML</td>\n",
       "    </tr>\n",
       "  </tbody>\n",
       "</table>\n",
       "</div>"
      ],
      "text/plain": [
       "          UPC               DESCRIPTION   MANUFACTURER               CATEGORY  \\\n",
       "0  1111009477    PL MINI TWIST PRETZELS  PRIVATE LABEL             BAG SNACKS   \n",
       "1  1111009497         PL PRETZEL STICKS  PRIVATE LABEL             BAG SNACKS   \n",
       "2  1111009507         PL TWIST PRETZELS  PRIVATE LABEL             BAG SNACKS   \n",
       "3  1111035398  PL BL MINT ANTSPTC RINSE  PRIVATE LABEL  ORAL HYGIENE PRODUCTS   \n",
       "4  1111038078  PL BL MINT ANTSPTC RINSE  PRIVATE LABEL  ORAL HYGIENE PRODUCTS   \n",
       "\n",
       "               SUB_CATEGORY PRODUCT_SIZE  \n",
       "0                  PRETZELS        15 OZ  \n",
       "1                  PRETZELS        15 OZ  \n",
       "2                  PRETZELS        15 OZ  \n",
       "3  MOUTHWASHES (ANTISEPTIC)       1.5 LT  \n",
       "4  MOUTHWASHES (ANTISEPTIC)       500 ML  "
      ]
     },
     "execution_count": 103,
     "metadata": {},
     "output_type": "execute_result"
    }
   ],
   "source": [
    "products.head()"
   ]
  },
  {
   "cell_type": "code",
   "execution_count": 104,
   "metadata": {},
   "outputs": [
    {
     "data": {
      "text/plain": [
       "(Timestamp('2012-01-04 00:00:00'), Timestamp('2009-01-14 00:00:00'))"
      ]
     },
     "execution_count": 104,
     "metadata": {},
     "output_type": "execute_result"
    }
   ],
   "source": [
    "#Grabbing min and max date for my knowledge\n",
    "transactions[\"WEEK_END_DATE\"].max(), transactions[\"WEEK_END_DATE\"].min()"
   ]
  },
  {
   "cell_type": "code",
   "execution_count": 105,
   "metadata": {},
   "outputs": [],
   "source": [
    "#Join the 2 data frames together to get descripter columns for the products\n",
    "\n",
    "df = pd.merge(transactions,products, on=\"UPC\")"
   ]
  },
  {
   "cell_type": "markdown",
   "metadata": {},
   "source": [
    "Data Cleaning & Inspection"
   ]
  },
  {
   "cell_type": "code",
   "execution_count": 106,
   "metadata": {},
   "outputs": [],
   "source": [
    "#Removing these products per the professor. \n",
    "df = df[df[\"CATEGORY\"] != \"ORAL HYGIENE PRODUCTS\"]"
   ]
  },
  {
   "cell_type": "code",
   "execution_count": 107,
   "metadata": {},
   "outputs": [
    {
     "data": {
      "text/plain": [
       "WEEK_END_DATE    408421\n",
       "STORE_NUM        408421\n",
       "UPC              408421\n",
       "UNITS            408421\n",
       "VISITS           408421\n",
       "HHS              408421\n",
       "SPEND            408421\n",
       "PRICE            408411\n",
       "BASE_PRICE       408248\n",
       "FEATURE          408421\n",
       "DISPLAY          408421\n",
       "TPR_ONLY         408421\n",
       "DESCRIPTION      408421\n",
       "MANUFACTURER     408421\n",
       "CATEGORY         408421\n",
       "SUB_CATEGORY     408421\n",
       "PRODUCT_SIZE     408421\n",
       "dtype: int64"
      ]
     },
     "execution_count": 107,
     "metadata": {},
     "output_type": "execute_result"
    }
   ],
   "source": [
    "df.count()"
   ]
  },
  {
   "cell_type": "code",
   "execution_count": 108,
   "metadata": {},
   "outputs": [
    {
     "data": {
      "text/plain": [
       "WEEK_END_DATE      0\n",
       "STORE_NUM          0\n",
       "UPC                0\n",
       "UNITS              0\n",
       "VISITS             0\n",
       "HHS                0\n",
       "SPEND              0\n",
       "PRICE             10\n",
       "BASE_PRICE       173\n",
       "FEATURE            0\n",
       "DISPLAY            0\n",
       "TPR_ONLY           0\n",
       "DESCRIPTION        0\n",
       "MANUFACTURER       0\n",
       "CATEGORY           0\n",
       "SUB_CATEGORY       0\n",
       "PRODUCT_SIZE       0\n",
       "dtype: int64"
      ]
     },
     "execution_count": 108,
     "metadata": {},
     "output_type": "execute_result"
    }
   ],
   "source": [
    "df.isna().sum()"
   ]
  },
  {
   "cell_type": "code",
   "execution_count": 109,
   "metadata": {},
   "outputs": [],
   "source": [
    "df = df.dropna()"
   ]
  },
  {
   "cell_type": "code",
   "execution_count": 110,
   "metadata": {},
   "outputs": [
    {
     "data": {
      "text/plain": [
       "WEEK_END_DATE    408238\n",
       "STORE_NUM        408238\n",
       "UPC              408238\n",
       "UNITS            408238\n",
       "VISITS           408238\n",
       "HHS              408238\n",
       "SPEND            408238\n",
       "PRICE            408238\n",
       "BASE_PRICE       408238\n",
       "FEATURE          408238\n",
       "DISPLAY          408238\n",
       "TPR_ONLY         408238\n",
       "DESCRIPTION      408238\n",
       "MANUFACTURER     408238\n",
       "CATEGORY         408238\n",
       "SUB_CATEGORY     408238\n",
       "PRODUCT_SIZE     408238\n",
       "dtype: int64"
      ]
     },
     "execution_count": 110,
     "metadata": {},
     "output_type": "execute_result"
    }
   ],
   "source": [
    "df.isnull().count()"
   ]
  },
  {
   "cell_type": "markdown",
   "metadata": {},
   "source": [
    "Goal: Find the products which are most price sensitive and most insensitive using Linear Regression"
   ]
  },
  {
   "cell_type": "markdown",
   "metadata": {},
   "source": [
    "Check distribution of the target variable: Units"
   ]
  },
  {
   "cell_type": "code",
   "execution_count": 111,
   "metadata": {},
   "outputs": [
    {
     "data": {
      "text/plain": [
       "count    408238.000000\n",
       "mean         23.931533\n",
       "std          32.576693\n",
       "min           1.000000\n",
       "25%           7.000000\n",
       "50%          15.000000\n",
       "75%          29.000000\n",
       "max        1800.000000\n",
       "Name: UNITS, dtype: float64"
      ]
     },
     "execution_count": 111,
     "metadata": {},
     "output_type": "execute_result"
    }
   ],
   "source": [
    "df[\"UNITS\"].describe()"
   ]
  },
  {
   "cell_type": "code",
   "execution_count": 112,
   "metadata": {},
   "outputs": [
    {
     "data": {
      "text/plain": [
       "UNITS\n",
       "1       15535\n",
       "2       16721\n",
       "3       17223\n",
       "4       16767\n",
       "5       16604\n",
       "        ...  \n",
       "1017        1\n",
       "1054        1\n",
       "1136        1\n",
       "1179        1\n",
       "1800        1\n",
       "Name: UNITS, Length: 567, dtype: int64"
      ]
     },
     "execution_count": 112,
     "metadata": {},
     "output_type": "execute_result"
    }
   ],
   "source": [
    "#Another way of looking at the distribution\n",
    "#We can use a log transformation here to try to normalize this dsitribution some \n",
    "#This is count data as well so it will be the same as a Poisson Regression commonly used on count data\n",
    "df.groupby(\"UNITS\")[\"UNITS\"].count()"
   ]
  },
  {
   "cell_type": "code",
   "execution_count": 113,
   "metadata": {},
   "outputs": [
    {
     "data": {
      "text/plain": [
       "(array([5.52344586e-03, 3.04321711e-05, 3.56744019e-06, 7.89738667e-07,\n",
       "        2.72323678e-07, 9.53132874e-08, 2.72323678e-08, 0.00000000e+00,\n",
       "        0.00000000e+00, 1.36161839e-08]),\n",
       " array([1.0000e+00, 1.8090e+02, 3.6080e+02, 5.4070e+02, 7.2060e+02,\n",
       "        9.0050e+02, 1.0804e+03, 1.2603e+03, 1.4402e+03, 1.6201e+03,\n",
       "        1.8000e+03]),\n",
       " <BarContainer object of 10 artists>)"
      ]
     },
     "execution_count": 113,
     "metadata": {},
     "output_type": "execute_result"
    },
    {
     "data": {
      "image/png": "[encoded data removed]",
      "text/plain": [
       "<Figure size 640x480 with 1 Axes>"
      ]
     },
     "metadata": {},
     "output_type": "display_data"
    }
   ],
   "source": [
    "\n",
    "plt.hist(df[\"UNITS\"], density=True, log = True)"
   ]
  },
  {
   "cell_type": "markdown",
   "metadata": {},
   "source": [
    "Create Empty Arrays to add Model coeff & product names to after"
   ]
  },
  {
   "cell_type": "code",
   "execution_count": 114,
   "metadata": {},
   "outputs": [],
   "source": [
    "upcs = df[\"UPC\"].unique()\n",
    "product_names_ids = df[[\"UPC\",\"DESCRIPTION\"]]"
   ]
  },
  {
   "cell_type": "code",
   "execution_count": 115,
   "metadata": {},
   "outputs": [
    {
     "data": {
      "text/plain": [
       "array([ 1111009477,  1111009497,  1111009507,  1111085319,  1111085345,\n",
       "        1111085350,  1111087395,  1111087396,  1111087398,  1600027527,\n",
       "        1600027528,  1600027564,  2840004768,  3000006340,  3000006560,\n",
       "        3000006610,  3800031829,  3800031838,  3800039118,  7027316204,\n",
       "        7027316404,  7192100336,  7192100337,  7192100339,  7218063052,\n",
       "        7218063979,  7218063983,  7797508004,  7797508006,  2840002333,\n",
       "        2840004770,  7027312504,  7110410455,  7110410470,  7110410471,\n",
       "        7797502248, 88491201426, 88491201427, 88491212971,  2066200530,\n",
       "        2066200531,  2066200532], dtype=int64)"
      ]
     },
     "execution_count": 115,
     "metadata": {},
     "output_type": "execute_result"
    }
   ],
   "source": [
    "upcs"
   ]
  },
  {
   "cell_type": "code",
   "execution_count": 116,
   "metadata": {},
   "outputs": [],
   "source": [
    "product_names_ids = product_names_ids.drop_duplicates()"
   ]
  },
  {
   "cell_type": "code",
   "execution_count": 117,
   "metadata": {},
   "outputs": [
    {
     "data": {
      "text/html": [
       "<div>\n",
       "<style scoped>\n",
       "    .dataframe tbody tr th:only-of-type {\n",
       "        vertical-align: middle;\n",
       "    }\n",
       "\n",
       "    .dataframe tbody tr th {\n",
       "        vertical-align: top;\n",
       "    }\n",
       "\n",
       "    .dataframe thead th {\n",
       "        text-align: right;\n",
       "    }\n",
       "</style>\n",
       "<table border=\"1\" class=\"dataframe\">\n",
       "  <thead>\n",
       "    <tr style=\"text-align: right;\">\n",
       "      <th></th>\n",
       "      <th>UPC</th>\n",
       "      <th>DESCRIPTION</th>\n",
       "    </tr>\n",
       "  </thead>\n",
       "  <tbody>\n",
       "    <tr>\n",
       "      <th>0</th>\n",
       "      <td>1111009477</td>\n",
       "      <td>PL MINI TWIST PRETZELS</td>\n",
       "    </tr>\n",
       "    <tr>\n",
       "      <th>11938</th>\n",
       "      <td>1111009497</td>\n",
       "      <td>PL PRETZEL STICKS</td>\n",
       "    </tr>\n",
       "    <tr>\n",
       "      <th>23898</th>\n",
       "      <td>1111009507</td>\n",
       "      <td>PL TWIST PRETZELS</td>\n",
       "    </tr>\n",
       "    <tr>\n",
       "      <th>66754</th>\n",
       "      <td>1111085319</td>\n",
       "      <td>PL HONEY NUT TOASTD OATS</td>\n",
       "    </tr>\n",
       "    <tr>\n",
       "      <th>78713</th>\n",
       "      <td>1111085345</td>\n",
       "      <td>PL RAISIN BRAN</td>\n",
       "    </tr>\n",
       "    <tr>\n",
       "      <th>90693</th>\n",
       "      <td>1111085350</td>\n",
       "      <td>PL BT SZ FRSTD SHRD WHT</td>\n",
       "    </tr>\n",
       "    <tr>\n",
       "      <th>102656</th>\n",
       "      <td>1111087395</td>\n",
       "      <td>PL SR CRUST SUPRM PIZZA</td>\n",
       "    </tr>\n",
       "    <tr>\n",
       "      <th>114304</th>\n",
       "      <td>1111087396</td>\n",
       "      <td>PL SR CRUST 3 MEAT PIZZA</td>\n",
       "    </tr>\n",
       "    <tr>\n",
       "      <th>125875</th>\n",
       "      <td>1111087398</td>\n",
       "      <td>PL SR CRUST PEPPRN PIZZA</td>\n",
       "    </tr>\n",
       "    <tr>\n",
       "      <th>137711</th>\n",
       "      <td>1600027527</td>\n",
       "      <td>GM HONEY NUT CHEERIOS</td>\n",
       "    </tr>\n",
       "    <tr>\n",
       "      <th>149696</th>\n",
       "      <td>1600027528</td>\n",
       "      <td>GM CHEERIOS</td>\n",
       "    </tr>\n",
       "    <tr>\n",
       "      <th>161679</th>\n",
       "      <td>1600027564</td>\n",
       "      <td>GM CHEERIOS</td>\n",
       "    </tr>\n",
       "    <tr>\n",
       "      <th>173659</th>\n",
       "      <td>2840004768</td>\n",
       "      <td>RLDGLD TINY TWISTS PRTZL</td>\n",
       "    </tr>\n",
       "    <tr>\n",
       "      <th>185218</th>\n",
       "      <td>3000006340</td>\n",
       "      <td>QKER LIFE ORIGINAL</td>\n",
       "    </tr>\n",
       "    <tr>\n",
       "      <th>195450</th>\n",
       "      <td>3000006560</td>\n",
       "      <td>QKER CAP N CRUNCH BERRIES</td>\n",
       "    </tr>\n",
       "    <tr>\n",
       "      <th>205623</th>\n",
       "      <td>3000006610</td>\n",
       "      <td>QKER CAP N CRUNCH</td>\n",
       "    </tr>\n",
       "    <tr>\n",
       "      <th>235474</th>\n",
       "      <td>3800031829</td>\n",
       "      <td>KELL BITE SIZE MINI WHEAT</td>\n",
       "    </tr>\n",
       "    <tr>\n",
       "      <th>247378</th>\n",
       "      <td>3800031838</td>\n",
       "      <td>KELL FROSTED FLAKES</td>\n",
       "    </tr>\n",
       "    <tr>\n",
       "      <th>259358</th>\n",
       "      <td>3800039118</td>\n",
       "      <td>KELL FROOT LOOPS</td>\n",
       "    </tr>\n",
       "    <tr>\n",
       "      <th>278537</th>\n",
       "      <td>7027316204</td>\n",
       "      <td>SHURGD MINI PRETZELS</td>\n",
       "    </tr>\n",
       "    <tr>\n",
       "      <th>283596</th>\n",
       "      <td>7027316404</td>\n",
       "      <td>SHURGD PRETZEL STICKS</td>\n",
       "    </tr>\n",
       "    <tr>\n",
       "      <th>288647</th>\n",
       "      <td>7192100336</td>\n",
       "      <td>DIGIORNO THREE MEAT</td>\n",
       "    </tr>\n",
       "    <tr>\n",
       "      <th>300443</th>\n",
       "      <td>7192100337</td>\n",
       "      <td>DIGRN SUPREME PIZZA</td>\n",
       "    </tr>\n",
       "    <tr>\n",
       "      <th>312361</th>\n",
       "      <td>7192100339</td>\n",
       "      <td>DIGRN PEPP PIZZA</td>\n",
       "    </tr>\n",
       "    <tr>\n",
       "      <th>324323</th>\n",
       "      <td>7218063052</td>\n",
       "      <td>FRSC BRCK OVN ITL PEP PZ</td>\n",
       "    </tr>\n",
       "    <tr>\n",
       "      <th>334727</th>\n",
       "      <td>7218063979</td>\n",
       "      <td>FRSC PEPPERONI PIZZA</td>\n",
       "    </tr>\n",
       "    <tr>\n",
       "      <th>344482</th>\n",
       "      <td>7218063983</td>\n",
       "      <td>FRSC 4 CHEESE PIZZA</td>\n",
       "    </tr>\n",
       "    <tr>\n",
       "      <th>353193</th>\n",
       "      <td>7797508004</td>\n",
       "      <td>SNYDR SOURDOUGH NIBBLERS</td>\n",
       "    </tr>\n",
       "    <tr>\n",
       "      <th>363313</th>\n",
       "      <td>7797508006</td>\n",
       "      <td>SNYDR FF MINI PRETZELS</td>\n",
       "    </tr>\n",
       "    <tr>\n",
       "      <th>384422</th>\n",
       "      <td>2840002333</td>\n",
       "      <td>RLDGLD BRAIDED HONEY WHT</td>\n",
       "    </tr>\n",
       "    <tr>\n",
       "      <th>393685</th>\n",
       "      <td>2840004770</td>\n",
       "      <td>RLDGLD PRETZEL STICKS</td>\n",
       "    </tr>\n",
       "    <tr>\n",
       "      <th>430337</th>\n",
       "      <td>7027312504</td>\n",
       "      <td>SHURGD PRETZEL RODS</td>\n",
       "    </tr>\n",
       "    <tr>\n",
       "      <th>434883</th>\n",
       "      <td>7110410455</td>\n",
       "      <td>MKSL MINI TWIST PRETZELS</td>\n",
       "    </tr>\n",
       "    <tr>\n",
       "      <th>439627</th>\n",
       "      <td>7110410470</td>\n",
       "      <td>MKSL DUTCH PRETZELS</td>\n",
       "    </tr>\n",
       "    <tr>\n",
       "      <th>444169</th>\n",
       "      <td>7110410471</td>\n",
       "      <td>MKSL PRETZEL STICKS</td>\n",
       "    </tr>\n",
       "    <tr>\n",
       "      <th>448619</th>\n",
       "      <td>7797502248</td>\n",
       "      <td>SNYDR PRETZEL RODS</td>\n",
       "    </tr>\n",
       "    <tr>\n",
       "      <th>482174</th>\n",
       "      <td>88491201426</td>\n",
       "      <td>POST HNY BN OTS HNY RSTD</td>\n",
       "    </tr>\n",
       "    <tr>\n",
       "      <th>492874</th>\n",
       "      <td>88491201427</td>\n",
       "      <td>POST FM SZ HNYBNCH OT ALM</td>\n",
       "    </tr>\n",
       "    <tr>\n",
       "      <th>503187</th>\n",
       "      <td>88491212971</td>\n",
       "      <td>POST FRUITY PEBBLES</td>\n",
       "    </tr>\n",
       "    <tr>\n",
       "      <th>513281</th>\n",
       "      <td>2066200530</td>\n",
       "      <td>NWMN OWN PEPPERONI PIZZA</td>\n",
       "    </tr>\n",
       "    <tr>\n",
       "      <th>518388</th>\n",
       "      <td>2066200531</td>\n",
       "      <td>NWMN OWN 4 CHEESE PIZZA</td>\n",
       "    </tr>\n",
       "    <tr>\n",
       "      <th>522195</th>\n",
       "      <td>2066200532</td>\n",
       "      <td>NWMN OWN SUPREME PIZZA</td>\n",
       "    </tr>\n",
       "  </tbody>\n",
       "</table>\n",
       "</div>"
      ],
      "text/plain": [
       "                UPC                DESCRIPTION\n",
       "0        1111009477     PL MINI TWIST PRETZELS\n",
       "11938    1111009497          PL PRETZEL STICKS\n",
       "23898    1111009507          PL TWIST PRETZELS\n",
       "66754    1111085319   PL HONEY NUT TOASTD OATS\n",
       "78713    1111085345             PL RAISIN BRAN\n",
       "90693    1111085350    PL BT SZ FRSTD SHRD WHT\n",
       "102656   1111087395    PL SR CRUST SUPRM PIZZA\n",
       "114304   1111087396   PL SR CRUST 3 MEAT PIZZA\n",
       "125875   1111087398   PL SR CRUST PEPPRN PIZZA\n",
       "137711   1600027527      GM HONEY NUT CHEERIOS\n",
       "149696   1600027528                GM CHEERIOS\n",
       "161679   1600027564                GM CHEERIOS\n",
       "173659   2840004768   RLDGLD TINY TWISTS PRTZL\n",
       "185218   3000006340         QKER LIFE ORIGINAL\n",
       "195450   3000006560  QKER CAP N CRUNCH BERRIES\n",
       "205623   3000006610          QKER CAP N CRUNCH\n",
       "235474   3800031829  KELL BITE SIZE MINI WHEAT\n",
       "247378   3800031838        KELL FROSTED FLAKES\n",
       "259358   3800039118           KELL FROOT LOOPS\n",
       "278537   7027316204       SHURGD MINI PRETZELS\n",
       "283596   7027316404      SHURGD PRETZEL STICKS\n",
       "288647   7192100336        DIGIORNO THREE MEAT\n",
       "300443   7192100337        DIGRN SUPREME PIZZA\n",
       "312361   7192100339           DIGRN PEPP PIZZA\n",
       "324323   7218063052   FRSC BRCK OVN ITL PEP PZ\n",
       "334727   7218063979       FRSC PEPPERONI PIZZA\n",
       "344482   7218063983        FRSC 4 CHEESE PIZZA\n",
       "353193   7797508004   SNYDR SOURDOUGH NIBBLERS\n",
       "363313   7797508006     SNYDR FF MINI PRETZELS\n",
       "384422   2840002333   RLDGLD BRAIDED HONEY WHT\n",
       "393685   2840004770      RLDGLD PRETZEL STICKS\n",
       "430337   7027312504        SHURGD PRETZEL RODS\n",
       "434883   7110410455   MKSL MINI TWIST PRETZELS\n",
       "439627   7110410470        MKSL DUTCH PRETZELS\n",
       "444169   7110410471        MKSL PRETZEL STICKS\n",
       "448619   7797502248         SNYDR PRETZEL RODS\n",
       "482174  88491201426   POST HNY BN OTS HNY RSTD\n",
       "492874  88491201427  POST FM SZ HNYBNCH OT ALM\n",
       "503187  88491212971        POST FRUITY PEBBLES\n",
       "513281   2066200530   NWMN OWN PEPPERONI PIZZA\n",
       "518388   2066200531    NWMN OWN 4 CHEESE PIZZA\n",
       "522195   2066200532     NWMN OWN SUPREME PIZZA"
      ]
     },
     "execution_count": 117,
     "metadata": {},
     "output_type": "execute_result"
    }
   ],
   "source": [
    "product_names_ids"
   ]
  },
  {
   "cell_type": "markdown",
   "metadata": {},
   "source": [
    "This is good for the whole population but we want one for each product!"
   ]
  },
  {
   "cell_type": "code",
   "execution_count": 118,
   "metadata": {},
   "outputs": [],
   "source": [
    "df_test =  df[df[\"UPC\"] == 7218063979]"
   ]
  },
  {
   "cell_type": "code",
   "execution_count": 119,
   "metadata": {},
   "outputs": [],
   "source": [
    "y = np.log(df_test[\"UNITS\"])\n",
    "x = df_test[\"PRICE\"]"
   ]
  },
  {
   "cell_type": "code",
   "execution_count": 120,
   "metadata": {},
   "outputs": [
    {
     "name": "stdout",
     "output_type": "stream",
     "text": [
      "                                 OLS Regression Results                                \n",
      "=======================================================================================\n",
      "Dep. Variable:                  UNITS   R-squared (uncentered):                   0.548\n",
      "Model:                            OLS   Adj. R-squared (uncentered):              0.548\n",
      "Method:                 Least Squares   F-statistic:                          1.183e+04\n",
      "Date:                Sun, 20 Nov 2022   Prob (F-statistic):                        0.00\n",
      "Time:                        14:41:15   Log-Likelihood:                         -15457.\n",
      "No. Observations:                9738   AIC:                                  3.092e+04\n",
      "Df Residuals:                    9737   BIC:                                  3.092e+04\n",
      "Df Model:                           1                                                  \n",
      "Covariance Type:            nonrobust                                                  \n",
      "==============================================================================\n",
      "                 coef    std err          t      P>|t|      [0.025      0.975]\n",
      "------------------------------------------------------------------------------\n",
      "PRICE          0.2045      0.002    108.755      0.000       0.201       0.208\n",
      "==============================================================================\n",
      "Omnibus:                      503.881   Durbin-Watson:                   0.795\n",
      "Prob(Omnibus):                  0.000   Jarque-Bera (JB):              567.244\n",
      "Skew:                           0.578   Prob(JB):                    6.68e-124\n",
      "Kurtosis:                       2.748   Cond. No.                         1.00\n",
      "==============================================================================\n",
      "\n",
      "Notes:\n",
      "[1] R² is computed without centering (uncentered) since the model does not contain a constant.\n",
      "[2] Standard Errors assume that the covariance matrix of the errors is correctly specified.\n"
     ]
    }
   ],
   "source": [
    "mod = sm.OLS(y,x)\n",
    "res = mod.fit()\n",
    "print(res.summary())"
   ]
  },
  {
   "cell_type": "markdown",
   "metadata": {},
   "source": [
    "Here we run the linear model for each product (UPC)"
   ]
  },
  {
   "cell_type": "code",
   "execution_count": 121,
   "metadata": {},
   "outputs": [],
   "source": [
    "coeffs = []\n",
    "\n",
    "for i in range(1,len(upcs)):\n",
    "    #subset the original dataframe\n",
    "    df_inbetween = df[df[\"UPC\"] == upcs[i]]\n",
    "    #set model variables\n",
    "    y = np.log(df_inbetween[\"UNITS\"])\n",
    "    x = df_inbetween[\"PRICE\"]\n",
    "    #run model\n",
    "    mod = sm.OLS(y,x)\n",
    "    #append results to array\n",
    "    res = mod.fit()\n",
    "    coeffs.append(res.params.sum())\n"
   ]
  },
  {
   "cell_type": "markdown",
   "metadata": {},
   "source": [
    "Create a Dataframe & Products To Show Results"
   ]
  },
  {
   "cell_type": "code",
   "execution_count": 122,
   "metadata": {},
   "outputs": [],
   "source": [
    "coeffs = np.array(coeffs)"
   ]
  },
  {
   "cell_type": "code",
   "execution_count": 123,
   "metadata": {},
   "outputs": [],
   "source": [
    "final_df = pd.DataFrame(data = [upcs,coeffs]).T\n",
    "final_df.columns = ['UPC','Coefficients']\n"
   ]
  },
  {
   "cell_type": "code",
   "execution_count": 124,
   "metadata": {},
   "outputs": [],
   "source": [
    "final_df = pd.merge(final_df,product_names_ids, on = [\"UPC\"])"
   ]
  },
  {
   "cell_type": "code",
   "execution_count": 125,
   "metadata": {},
   "outputs": [],
   "source": [
    "final_df = final_df.sort_values(by = 'Coefficients')"
   ]
  },
  {
   "cell_type": "markdown",
   "metadata": {},
   "source": [
    "Products with the Lowest Coefficients"
   ]
  },
  {
   "cell_type": "code",
   "execution_count": 126,
   "metadata": {},
   "outputs": [
    {
     "data": {
      "text/html": [
       "<div>\n",
       "<style scoped>\n",
       "    .dataframe tbody tr th:only-of-type {\n",
       "        vertical-align: middle;\n",
       "    }\n",
       "\n",
       "    .dataframe tbody tr th {\n",
       "        vertical-align: top;\n",
       "    }\n",
       "\n",
       "    .dataframe thead th {\n",
       "        text-align: right;\n",
       "    }\n",
       "</style>\n",
       "<table border=\"1\" class=\"dataframe\">\n",
       "  <thead>\n",
       "    <tr style=\"text-align: right;\">\n",
       "      <th></th>\n",
       "      <th>UPC</th>\n",
       "      <th>Coefficients</th>\n",
       "      <th>DESCRIPTION</th>\n",
       "    </tr>\n",
       "  </thead>\n",
       "  <tbody>\n",
       "    <tr>\n",
       "      <th>25</th>\n",
       "      <td>7.218064e+09</td>\n",
       "      <td>0.196048</td>\n",
       "      <td>FRSC PEPPERONI PIZZA</td>\n",
       "    </tr>\n",
       "    <tr>\n",
       "      <th>40</th>\n",
       "      <td>2.066201e+09</td>\n",
       "      <td>0.203694</td>\n",
       "      <td>NWMN OWN 4 CHEESE PIZZA</td>\n",
       "    </tr>\n",
       "    <tr>\n",
       "      <th>24</th>\n",
       "      <td>7.218063e+09</td>\n",
       "      <td>0.204517</td>\n",
       "      <td>FRSC BRCK OVN ITL PEP PZ</td>\n",
       "    </tr>\n",
       "    <tr>\n",
       "      <th>23</th>\n",
       "      <td>7.192100e+09</td>\n",
       "      <td>0.221786</td>\n",
       "      <td>DIGRN PEPP PIZZA</td>\n",
       "    </tr>\n",
       "    <tr>\n",
       "      <th>38</th>\n",
       "      <td>8.849121e+10</td>\n",
       "      <td>0.248403</td>\n",
       "      <td>POST FRUITY PEBBLES</td>\n",
       "    </tr>\n",
       "  </tbody>\n",
       "</table>\n",
       "</div>"
      ],
      "text/plain": [
       "             UPC  Coefficients               DESCRIPTION\n",
       "25  7.218064e+09      0.196048      FRSC PEPPERONI PIZZA\n",
       "40  2.066201e+09      0.203694   NWMN OWN 4 CHEESE PIZZA\n",
       "24  7.218063e+09      0.204517  FRSC BRCK OVN ITL PEP PZ\n",
       "23  7.192100e+09      0.221786          DIGRN PEPP PIZZA\n",
       "38  8.849121e+10      0.248403       POST FRUITY PEBBLES"
      ]
     },
     "execution_count": 126,
     "metadata": {},
     "output_type": "execute_result"
    }
   ],
   "source": [
    "final_df.head()\n",
    "#Interpretation help: For every 1 cent increase in price there is a ~19.6% increase in units sold. "
   ]
  },
  {
   "cell_type": "markdown",
   "metadata": {},
   "source": [
    "Above are the top 5 products which move the least in Quantity sales when the price is changed. These products must be watched closely as they are price elastic, and price is a huge factor to the consumers purchaising this product."
   ]
  }
 ],
 "metadata": {
  "kernelspec": {
   "display_name": "Python 3.9.13 64-bit",
   "language": "python",
   "name": "python3"
  },
  "language_info": {
   "codemirror_mode": {
    "name": "ipython",
    "version": 3
   },
   "file_extension": ".py",
   "mimetype": "text/x-python",
   "name": "python",
   "nbconvert_exporter": "python",
   "pygments_lexer": "ipython3",
   "version": "3.9.13"
  },
  "orig_nbformat": 4,
  "vscode": {
   "interpreter": {
    "hash": "d24342cd65dd8af4d0128fe2517562cc6f094bd263a0f71336a63a57bd948e33"
   }
  }
 },
 "nbformat": 4,
 "nbformat_minor": 2
}
